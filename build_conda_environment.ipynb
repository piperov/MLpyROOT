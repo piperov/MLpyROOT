{
 "cells": [
  {
   "cell_type": "markdown",
   "metadata": {},
   "source": [
    "# Build a dedicated conda environment with the ML packages\n",
    "\n",
    "On the Community clusters we use LMOD to manage the loading/unloading of various modules.  \n",
    "`anaconda` is a very useful module for managing python environments in particular.\n",
    "\n",
    "In this example we will build a `conda` environment containing various ML python libraries, and will demonstrate\n",
    "how to use it.\n",
    "\n",
    "NOTE: This process takes a lot of diskspace and time. Sometimes it does not even succeed.\n",
    "Only repeat it when absolutely necessary."
   ]
  },
  {
   "cell_type": "markdown",
   "metadata": {},
   "source": [
    "### First, check what conda modules are currently available on the cluster\n"
   ]
  },
  {
   "cell_type": "code",
   "execution_count": 4,
   "metadata": {},
   "outputs": [
    {
     "name": "stderr",
     "output_type": "stream",
     "text": [
      "\n",
      "----------------------------------------------------------------------------\n",
      "  anaconda:\n",
      "----------------------------------------------------------------------------\n",
      "    Description:\n",
      "      Load an Anaconda environment for Python 3.7.\n",
      "\n",
      "     Versions:\n",
      "        anaconda/5.1.0-py27\n",
      "        anaconda/5.1.0-py36\n",
      "        anaconda/5.3.1-py27\n",
      "        anaconda/5.3.1-py37\n",
      "        anaconda/2021.05-py38\n",
      "\n",
      "----------------------------------------------------------------------------\n",
      "  For detailed information about a specific \"anaconda\" module (including how to load the modules) use the module's full name.\n",
      "  For example:\n",
      "\n",
      "     $ module spider anaconda/5.3.1-py37\n",
      "----------------------------------------------------------------------------\n",
      "\n",
      " \n",
      "\n"
     ]
    }
   ],
   "source": [
    "%%bash\n",
    "#!/bin/bash\n",
    "\n",
    "source /etc/profile.d/modules.sh\n",
    "module spider anaconda"
   ]
  },
  {
   "cell_type": "markdown",
   "metadata": {},
   "source": [
    "### then purge any previously loaded modules (if any) and load the anaconda module that corresponds to your desired python version (e.g. py37)\n"
   ]
  },
  {
   "cell_type": "code",
   "execution_count": null,
   "metadata": {
    "collapsed": true
   },
   "outputs": [],
   "source": [
    "%%bash\n",
    "#!/bin/bash\n",
    "\n",
    "module --force purge\n",
    "module load anaconda/2021.05-py38"
   ]
  },
  {
   "cell_type": "markdown",
   "metadata": {},
   "source": [
    "### now, create your new anaconda environment `myMLenvironment` and activate it (which means that all python packages that you install after that will be part of the environment)\n"
   ]
  },
  {
   "cell_type": "code",
   "execution_count": null,
   "metadata": {
    "collapsed": true
   },
   "outputs": [],
   "source": [
    "%%bash\n",
    "#!/bin/bash\n",
    "\n",
    "conda create --name myMLenvironment python=3.8\n",
    "source activate myMLenvironment"
   ]
  },
  {
   "cell_type": "markdown",
   "metadata": {},
   "source": [
    "### most packages that we will be using come from the `conda-forge` channel, so we will add this channel permanently to our list of preferred channels"
   ]
  },
  {
   "cell_type": "code",
   "execution_count": null,
   "metadata": {
    "collapsed": true
   },
   "outputs": [],
   "source": [
    "%%bash\n",
    "#!/bin/bash\n",
    "\n",
    "conda config --add channels conda-forge"
   ]
  },
  {
   "cell_type": "markdown",
   "metadata": {},
   "source": [
    "### Now, we will add all the packages that we need. Check the list to see if you need more (or less) packages. \n",
    "\n",
    "NOTE: this step usually takes very long. Be patient!"
   ]
  },
  {
   "cell_type": "code",
   "execution_count": null,
   "metadata": {
    "collapsed": true
   },
   "outputs": [],
   "source": [
    "%%bash\n",
    "#!/bin/bash\n",
    "\n",
    "conda install -y tensorflow keras numpy"
   ]
  },
  {
   "cell_type": "markdown",
   "metadata": {},
   "source": [
    "### Now, check that all the packages are correctly installed"
   ]
  },
  {
   "cell_type": "code",
   "execution_count": null,
   "metadata": {
    "collapsed": true
   },
   "outputs": [],
   "source": [
    "import numpy as np\n",
    "import tensorflow as tf\n",
    "import keras as k"
   ]
  },
  {
   "cell_type": "code",
   "execution_count": null,
   "metadata": {
    "collapsed": true,
    "scrolled": false
   },
   "outputs": [],
   "source": [
    "%%bash\n",
    "#!/bin/bash\n",
    "\n",
    "source deactivate"
   ]
  },
  {
   "cell_type": "markdown",
   "metadata": {},
   "source": [
    "When finished, please select `File -> Close and Halt` from the menu at the top to properly close this notebook."
   ]
  }
 ],
 "metadata": {
  "kernelspec": {
   "display_name": "Python 3",
   "language": "python",
   "name": "python3"
  },
  "language_info": {
   "codemirror_mode": {
    "name": "ipython",
    "version": 3
   },
   "file_extension": ".py",
   "mimetype": "text/x-python",
   "name": "python",
   "nbconvert_exporter": "python",
   "pygments_lexer": "ipython3",
   "version": "3.6.6"
  }
 },
 "nbformat": 4,
 "nbformat_minor": 2
}
