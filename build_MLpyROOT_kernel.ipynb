{
 "cells": [
  {
   "cell_type": "markdown",
   "metadata": {},
   "source": [
    "# Load various ML python modules and CMSSW into Jupyter kernel\n",
    "\n",
    "NOTE: this kernel relies on the conda environment `myMLenvironment` built using the `build_conda_environment.ipynb`. If you haven't created that conda environment yet, do it before building this kernel. You do NOT need to re-build the conda environment every time (that's a very slow operation).\n",
    "\n",
    "\n",
    "\n",
    "To teach Jupyter about a new environment, we will create a new `kernel`. In Jupyter, kernels are just execution environments - combinations of languages and libraries needed to run the code we want. \n",
    "\n",
    "So, for instance, one kernel could be a python kernel with CMSSW_9_1_0 and python2, while another would be CMSSW_12_0_2 with python3 and numpy. \n",
    "\n",
    "In this example we use CMSSW_12_0_2 and current versions of ML packages (numpy, tensorflow, keras) to build a new kernel called `MLpyROOT`.\n",
    "\n",
    "To make the kernel, select the cell below and press `Shift+Enter`. Don't worry about the contents of the cell, this is simply code to make a CMSSW checkout, create a wrapper script, then teach Jupyter about that script."
   ]
  },
  {
   "cell_type": "code",
   "execution_count": 4,
   "metadata": {},
   "outputs": [
    {
     "name": "stdout",
     "output_type": "stream",
     "text": [
      "Loaded CMSSW_12_0_2 into MLpyROOT_3!\n"
     ]
    }
   ],
   "source": [
    "%%bash\n",
    "#!/bin/bash\n",
    "\n",
    "CMSSW_VER=\"CMSSW_12_0_2\"\n",
    "KERNEL_NAME=\"MLpyROOT\"\n",
    "\n",
    "set -e\n",
    "# Get the CMSSW libraries (specifically ROOT)\n",
    "SCRAM_ARCH=$(ls -d /cvmfs/cms.cern.ch/$(/cvmfs/cms.cern.ch/common/cmsos)*/cms/cmssw/${CMSSW_VER} | tail -n 1 | awk -F / '{ print $4 }')\n",
    "export SCRAM_ARCH\n",
    "source /cvmfs/cms.cern.ch/cmsset_default.sh\n",
    "if [ ! -d cmssw-env ]; then\n",
    "    scramv1 project --name cmssw-env CMSSW $CMSSW_VER \n",
    "fi\n",
    "\n",
    "# Now, install additional python packages\n",
    "# First, setup the LMOD modules and activate the anaconda named environment:\n",
    "source /etc/profile.d/modules.sh\n",
    "module load anaconda/5.3.1-py37\n",
    "source activate myMLenvironment\n",
    "\n",
    "# Then setup the CMSSW environment\n",
    "cd cmssw-env\n",
    "eval `scramv1 runtime -sh`\n",
    "\n",
    "# Make a wrapper script to load CMSSW python\n",
    "cat << 'EOF' > bin/python_wrapper2.sh\n",
    "#!/bin/bash\n",
    "DIR=\"$( cd \"$( dirname \"${BASH_SOURCE[0]}\" )\" && pwd )\"\n",
    "source /cvmfs/cms.cern.ch/cmsset_default.sh\n",
    "pushd $DIR\n",
    "eval `scramv1 runtime -sh`\n",
    "popd\n",
    "exec python3 \"$@\"\n",
    "EOF\n",
    "chmod +x bin/python_wrapper3.sh\n",
    "\n",
    "# Create the kernel\n",
    "mkdir -p \"$HOME/.local/share/jupyter/kernels/$KERNEL_NAME\"\n",
    "cat << EOF > \"$HOME/.local/share/jupyter/kernels/$KERNEL_NAME/kernel.json\"\n",
    "{\n",
    " \"display_name\": \"$KERNEL_NAME\", \n",
    " \"language\": \"python\", \n",
    " \"argv\": [\n",
    "  \"$PWD/bin/python_wrapper3.sh\", \n",
    "  \"-m\", \n",
    "  \"IPython.kernel\", \n",
    "  \"-f\", \n",
    "  \"{connection_file}\"\n",
    " ]\n",
    "}\n",
    "EOF\n",
    "\n",
    "# Report OK\n",
    "echo \"Loaded $CMSSW_VERSION into $KERNEL_NAME!\""
   ]
  },
  {
   "cell_type": "markdown",
   "metadata": {},
   "source": [
    "If you see\n",
    "```\n",
    "Loaded CMSSW_12_0_2 into MLpyROOT\n",
    "```\n",
    "in the previous output, then you successfully loaded your kernel! Please select `File -> Close and Halt` from the menu to close this notebook, and proceed to the `exercises` notebook in the file browser"
   ]
  }
 ],
 "metadata": {
  "kernelspec": {
   "display_name": "Python 3",
   "language": "python",
   "name": "python3"
  },
  "language_info": {
   "codemirror_mode": {
    "name": "ipython",
    "version": 3
   },
   "file_extension": ".py",
   "mimetype": "text/x-python",
   "name": "python",
   "nbconvert_exporter": "python",
   "pygments_lexer": "ipython3",
   "version": "3.6.6"
  }
 },
 "nbformat": 4,
 "nbformat_minor": 2
}
